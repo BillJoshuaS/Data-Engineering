{
 "cells": [
  {
   "cell_type": "code",
   "execution_count": 1,
   "id": "fddbd9e3-c709-449c-9022-da25e012ab08",
   "metadata": {},
   "outputs": [],
   "source": [
    "# pip install mysql-connector-python"
   ]
  },
  {
   "cell_type": "code",
   "execution_count": 2,
   "id": "495c25cd-73e4-4e62-bd5a-ebb6facd5fe8",
   "metadata": {},
   "outputs": [],
   "source": [
    "import pandas as pd\n",
    "import numpy as np\n",
    "import matplotlib.pyplot as plt\n",
    "import seaborn as sns"
   ]
  },
  {
   "cell_type": "code",
   "execution_count": 3,
   "id": "ed3d3fae-ce18-4d78-8cd6-58809369dcf3",
   "metadata": {},
   "outputs": [],
   "source": [
    "import mysql.connector\n",
    "\n",
    "# Connect to server\n",
    "cnx = mysql.connector.connect(\n",
    "    host=\"127.0.0.1\",\n",
    "    port=3306,\n",
    "    user=\"root\",\n",
    "    password=\"root\")"
   ]
  },
  {
   "cell_type": "code",
   "execution_count": 4,
   "id": "8e41600d-3555-4420-9111-383e41475586",
   "metadata": {},
   "outputs": [],
   "source": [
    "query = \"SELECT * FROM insurance_case.insure1\""
   ]
  },
  {
   "cell_type": "code",
   "execution_count": 5,
   "id": "cfcd6888-ec31-47aa-a886-cd1c2548777a",
   "metadata": {},
   "outputs": [
    {
     "name": "stderr",
     "output_type": "stream",
     "text": [
      "C:\\Users\\BillJ\\AppData\\Local\\Temp\\ipykernel_24604\\1600954950.py:1: UserWarning: pandas only supports SQLAlchemy connectable (engine/connection) or database string URI or sqlite3 DBAPI2 connection. Other DBAPI2 objects are not tested. Please consider using SQLAlchemy.\n",
      "  df = pd.read_sql(query, cnx)\n"
     ]
    }
   ],
   "source": [
    "df = pd.read_sql(query, cnx)"
   ]
  },
  {
   "cell_type": "code",
   "execution_count": 6,
   "id": "2d0d3f54-2d43-439c-9024-a2a91b45c941",
   "metadata": {},
   "outputs": [],
   "source": [
    "cnx.close()"
   ]
  },
  {
   "cell_type": "code",
   "execution_count": 7,
   "id": "35b97d5e-413f-4361-91fc-a3cc572e0cd6",
   "metadata": {},
   "outputs": [
    {
     "data": {
      "text/html": [
       "<div>\n",
       "<style scoped>\n",
       "    .dataframe tbody tr th:only-of-type {\n",
       "        vertical-align: middle;\n",
       "    }\n",
       "\n",
       "    .dataframe tbody tr th {\n",
       "        vertical-align: top;\n",
       "    }\n",
       "\n",
       "    .dataframe thead th {\n",
       "        text-align: right;\n",
       "    }\n",
       "</style>\n",
       "<table border=\"1\" class=\"dataframe\">\n",
       "  <thead>\n",
       "    <tr style=\"text-align: right;\">\n",
       "      <th></th>\n",
       "      <th>age</th>\n",
       "      <th>sex</th>\n",
       "      <th>bmi</th>\n",
       "      <th>children</th>\n",
       "      <th>smoker</th>\n",
       "      <th>region</th>\n",
       "      <th>charges</th>\n",
       "    </tr>\n",
       "  </thead>\n",
       "  <tbody>\n",
       "    <tr>\n",
       "      <th>0</th>\n",
       "      <td>19</td>\n",
       "      <td>female</td>\n",
       "      <td>27.900</td>\n",
       "      <td>0</td>\n",
       "      <td>yes</td>\n",
       "      <td>southwest</td>\n",
       "      <td>16884.92400</td>\n",
       "    </tr>\n",
       "    <tr>\n",
       "      <th>1</th>\n",
       "      <td>18</td>\n",
       "      <td>male</td>\n",
       "      <td>33.770</td>\n",
       "      <td>1</td>\n",
       "      <td>no</td>\n",
       "      <td>southeast</td>\n",
       "      <td>1725.55230</td>\n",
       "    </tr>\n",
       "    <tr>\n",
       "      <th>2</th>\n",
       "      <td>28</td>\n",
       "      <td>male</td>\n",
       "      <td>33.000</td>\n",
       "      <td>3</td>\n",
       "      <td>no</td>\n",
       "      <td>southeast</td>\n",
       "      <td>4449.46200</td>\n",
       "    </tr>\n",
       "    <tr>\n",
       "      <th>3</th>\n",
       "      <td>33</td>\n",
       "      <td>male</td>\n",
       "      <td>22.705</td>\n",
       "      <td>0</td>\n",
       "      <td>no</td>\n",
       "      <td>northwest</td>\n",
       "      <td>21984.47061</td>\n",
       "    </tr>\n",
       "    <tr>\n",
       "      <th>4</th>\n",
       "      <td>32</td>\n",
       "      <td>male</td>\n",
       "      <td>28.880</td>\n",
       "      <td>0</td>\n",
       "      <td>no</td>\n",
       "      <td>northwest</td>\n",
       "      <td>3866.85520</td>\n",
       "    </tr>\n",
       "  </tbody>\n",
       "</table>\n",
       "</div>"
      ],
      "text/plain": [
       "   age     sex     bmi  children smoker     region      charges\n",
       "0   19  female  27.900         0    yes  southwest  16884.92400\n",
       "1   18    male  33.770         1     no  southeast   1725.55230\n",
       "2   28    male  33.000         3     no  southeast   4449.46200\n",
       "3   33    male  22.705         0     no  northwest  21984.47061\n",
       "4   32    male  28.880         0     no  northwest   3866.85520"
      ]
     },
     "execution_count": 7,
     "metadata": {},
     "output_type": "execute_result"
    }
   ],
   "source": [
    "df.head(5)"
   ]
  },
  {
   "cell_type": "code",
   "execution_count": 8,
   "id": "cc3cc2ca-ba12-400f-a6aa-989f26f3a261",
   "metadata": {},
   "outputs": [
    {
     "data": {
      "text/html": [
       "<div>\n",
       "<style scoped>\n",
       "    .dataframe tbody tr th:only-of-type {\n",
       "        vertical-align: middle;\n",
       "    }\n",
       "\n",
       "    .dataframe tbody tr th {\n",
       "        vertical-align: top;\n",
       "    }\n",
       "\n",
       "    .dataframe thead th {\n",
       "        text-align: right;\n",
       "    }\n",
       "</style>\n",
       "<table border=\"1\" class=\"dataframe\">\n",
       "  <thead>\n",
       "    <tr style=\"text-align: right;\">\n",
       "      <th></th>\n",
       "      <th>age</th>\n",
       "      <th>bmi</th>\n",
       "      <th>children</th>\n",
       "      <th>charges</th>\n",
       "    </tr>\n",
       "  </thead>\n",
       "  <tbody>\n",
       "    <tr>\n",
       "      <th>count</th>\n",
       "      <td>1338.000000</td>\n",
       "      <td>1338.000000</td>\n",
       "      <td>1338.000000</td>\n",
       "      <td>1338.000000</td>\n",
       "    </tr>\n",
       "    <tr>\n",
       "      <th>mean</th>\n",
       "      <td>39.207025</td>\n",
       "      <td>30.663397</td>\n",
       "      <td>1.094918</td>\n",
       "      <td>13270.422265</td>\n",
       "    </tr>\n",
       "    <tr>\n",
       "      <th>std</th>\n",
       "      <td>14.049960</td>\n",
       "      <td>6.098187</td>\n",
       "      <td>1.205493</td>\n",
       "      <td>12110.011237</td>\n",
       "    </tr>\n",
       "    <tr>\n",
       "      <th>min</th>\n",
       "      <td>18.000000</td>\n",
       "      <td>15.960000</td>\n",
       "      <td>0.000000</td>\n",
       "      <td>1121.873900</td>\n",
       "    </tr>\n",
       "    <tr>\n",
       "      <th>25%</th>\n",
       "      <td>27.000000</td>\n",
       "      <td>26.296250</td>\n",
       "      <td>0.000000</td>\n",
       "      <td>4740.287150</td>\n",
       "    </tr>\n",
       "    <tr>\n",
       "      <th>50%</th>\n",
       "      <td>39.000000</td>\n",
       "      <td>30.400000</td>\n",
       "      <td>1.000000</td>\n",
       "      <td>9382.033000</td>\n",
       "    </tr>\n",
       "    <tr>\n",
       "      <th>75%</th>\n",
       "      <td>51.000000</td>\n",
       "      <td>34.693750</td>\n",
       "      <td>2.000000</td>\n",
       "      <td>16639.912515</td>\n",
       "    </tr>\n",
       "    <tr>\n",
       "      <th>max</th>\n",
       "      <td>64.000000</td>\n",
       "      <td>53.130000</td>\n",
       "      <td>5.000000</td>\n",
       "      <td>63770.428010</td>\n",
       "    </tr>\n",
       "  </tbody>\n",
       "</table>\n",
       "</div>"
      ],
      "text/plain": [
       "               age          bmi     children       charges\n",
       "count  1338.000000  1338.000000  1338.000000   1338.000000\n",
       "mean     39.207025    30.663397     1.094918  13270.422265\n",
       "std      14.049960     6.098187     1.205493  12110.011237\n",
       "min      18.000000    15.960000     0.000000   1121.873900\n",
       "25%      27.000000    26.296250     0.000000   4740.287150\n",
       "50%      39.000000    30.400000     1.000000   9382.033000\n",
       "75%      51.000000    34.693750     2.000000  16639.912515\n",
       "max      64.000000    53.130000     5.000000  63770.428010"
      ]
     },
     "execution_count": 8,
     "metadata": {},
     "output_type": "execute_result"
    }
   ],
   "source": [
    "df.describe()"
   ]
  },
  {
   "cell_type": "code",
   "execution_count": 9,
   "id": "b129c5ce-9bce-421c-a504-3a4f39613314",
   "metadata": {},
   "outputs": [
    {
     "name": "stdout",
     "output_type": "stream",
     "text": [
      "<class 'pandas.core.frame.DataFrame'>\n",
      "RangeIndex: 1338 entries, 0 to 1337\n",
      "Data columns (total 7 columns):\n",
      " #   Column    Non-Null Count  Dtype  \n",
      "---  ------    --------------  -----  \n",
      " 0   age       1338 non-null   int64  \n",
      " 1   sex       1338 non-null   object \n",
      " 2   bmi       1338 non-null   float64\n",
      " 3   children  1338 non-null   int64  \n",
      " 4   smoker    1338 non-null   object \n",
      " 5   region    1338 non-null   object \n",
      " 6   charges   1338 non-null   float64\n",
      "dtypes: float64(2), int64(2), object(3)\n",
      "memory usage: 73.3+ KB\n"
     ]
    }
   ],
   "source": [
    "df.info()"
   ]
  },
  {
   "cell_type": "code",
   "execution_count": 10,
   "id": "443c0814-edab-451d-b655-d57ffdd6d91e",
   "metadata": {},
   "outputs": [
    {
     "data": {
      "text/plain": [
       "(1338, 7)"
      ]
     },
     "execution_count": 10,
     "metadata": {},
     "output_type": "execute_result"
    }
   ],
   "source": [
    "df.shape"
   ]
  },
  {
   "cell_type": "code",
   "execution_count": 11,
   "id": "79cd8ec7-6025-495a-832b-40ca39cb7903",
   "metadata": {},
   "outputs": [
    {
     "data": {
      "text/plain": [
       "30.66339686098655"
      ]
     },
     "execution_count": 11,
     "metadata": {},
     "output_type": "execute_result"
    }
   ],
   "source": [
    "np.mean(df[\"bmi\"])\n",
    "df[\"bmi\"].mean()\n",
    "# Both are same but numpy works for all datastructures and .mean() is a dataframe pandas function call"
   ]
  },
  {
   "cell_type": "code",
   "execution_count": 12,
   "id": "36199bbf-4634-4ba6-94c4-f2c76c078d15",
   "metadata": {},
   "outputs": [
    {
     "data": {
      "text/plain": [
       "30.66339686098655"
      ]
     },
     "execution_count": 12,
     "metadata": {},
     "output_type": "execute_result"
    }
   ],
   "source": [
    "# Average insurance charge\n",
    "avg_charge = df['charges'].mean()\n",
    "# Median Insurance charge\n",
    "med_charge = df['charges'].median()\n",
    "# Average BMI\n",
    "df[\"bmi\"].mean()"
   ]
  },
  {
   "cell_type": "code",
   "execution_count": 13,
   "id": "e30ca6fc-4de8-4d8b-ac75-9c37d2ef5065",
   "metadata": {},
   "outputs": [
    {
     "data": {
      "text/plain": [
       "smoker_num\n",
       "0    1064\n",
       "1     274\n",
       "Name: count, dtype: int64"
      ]
     },
     "execution_count": 13,
     "metadata": {},
     "output_type": "execute_result"
    }
   ],
   "source": [
    "# Smoking ratio (% of smokers vs non-smokers)\n",
    "df['smoker_num'] = df['smoker'].map({'yes':1, 'no':0})\n",
    "# Total count\n",
    "df['smoker_num'].count()\n",
    "# Individual count of all unique values and value_count() returns a pandas series\n",
    "df['smoker_num'].value_counts()\n",
    "# non_smokers = "
   ]
  },
  {
   "cell_type": "markdown",
   "id": "6305a73e-ad87-4395-a639-52915f62e85c",
   "metadata": {},
   "source": [
    "From the above observation, we can tell senior are more concerned about their health"
   ]
  },
  {
   "cell_type": "code",
   "execution_count": 15,
   "id": "8eddb20a-371d-4814-a228-893453b9f307",
   "metadata": {},
   "outputs": [
    {
     "name": "stdout",
     "output_type": "stream",
     "text": [
      "smoker percentage : 20.47832585949178  Non Smoker percentage : 79.52167414050822\n"
     ]
    }
   ],
   "source": [
    "\n",
    "# This creates a Boolean series where only 1s are True, and sum() counts how many Trues there are.\n",
    "df['smoker_num'].value_counts(normalize=True).get(1, 0) * 100\n",
    "# The below is a manual basic form of code to get the same for smokers and vice versa for non-smokers\n",
    "((df['smoker_num'] == 1).sum()/df['smoker_num'].count()) * 100\n",
    "\n",
    "# Most efficient way to achieve the percentage of binary data is:\n",
    "smoker_per = (df['smoker_num'] == 1).mean() * 100\n",
    "nsmoker_per = (df['smoker_num'] == 0).mean() * 100\n",
    "\n",
    "print('smoker percentage :',smoker_per,' Non Smoker percentage :', nsmoker_per)"
   ]
  },
  {
   "cell_type": "code",
   "execution_count": 16,
   "id": "a093bc2f-9b13-4f2c-8b03-a3dc788f24d1",
   "metadata": {},
   "outputs": [
    {
     "name": "stdout",
     "output_type": "stream",
     "text": [
      "total Smoker charged :  8781763.521839999 Total Non-Smoker charged :  8974061.468919002\n",
      "Average Smoker charged :  32050.23183153284 Average Non-Smoker charged :  8434.268297856204\n"
     ]
    }
   ],
   "source": [
    "# Average Charge by Smoker vs Non-Smoker\n",
    "smoker_charge = df.loc[df['smoker_num'] == 1, 'charges'].sum()\n",
    "nsmoker_charge = df.loc[df['smoker_num'] == 0, 'charges'].sum()\n",
    "\n",
    "smoker_avgcharge = df.loc[df['smoker_num'] == 1, 'charges'].mean()\n",
    "nsmoker_avgcharge = df.loc[df['smoker_num'] == 0, 'charges'].mean()\n",
    "\n",
    "print(\"total Smoker charged : \",smoker_charge,\"Total Non-Smoker charged : \",nsmoker_charge)\n",
    "print(\"Average Smoker charged : \",smoker_avgcharge,\"Average Non-Smoker charged : \",nsmoker_avgcharge)"
   ]
  },
  {
   "cell_type": "code",
   "execution_count": 17,
   "id": "ec635294-f1fe-48fd-9593-058da2dbd6e5",
   "metadata": {},
   "outputs": [
    {
     "name": "stdout",
     "output_type": "stream",
     "text": [
      "region\n",
      "southeast    364\n",
      "southwest    325\n",
      "northwest    325\n",
      "northeast    324\n",
      "Name: count, dtype: int64\n",
      "Total charges for the SE region :  5363689.763289999\n",
      "5363689.76329\n",
      "<class 'pandas.core.series.Series'>\n",
      "<class 'pandas.core.frame.DataFrame'>\n"
     ]
    }
   ],
   "source": [
    "# Charge by Region or Age Group\n",
    "# First to find the number of regions we are dealing with:\n",
    "uniq = df['region'].value_counts()\n",
    "print(uniq)\n",
    "# Now to find the sume of charges for each of these regions:\n",
    "df['region'].value_counts(normalize=True)\n",
    "se_charge = df.loc[df['region']==\"southeast\", 'charges'].sum()\n",
    "print('Total charges for the SE region : ',se_charge)\n",
    "\n",
    "# Scalable way to find desired calculations for unique values groupby():\n",
    "all_reg = df.groupby('region')['charges'].sum()\n",
    "print(all_reg['southeast'])  # groupby() returns a pandas series so we can get a value using labels\n",
    "print(type(all_reg))\n",
    "\n",
    "# We can also get the groupby() as a DF:\n",
    "all_regdf = df.groupby('region')[['charges']].sum() #Just wrap the column name with a sqr bracket\n",
    "print(type(all_regdf))"
   ]
  },
  {
   "cell_type": "code",
   "execution_count": 18,
   "id": "c2cc3a61-b324-42bb-9cdc-a7b696ec6e86",
   "metadata": {},
   "outputs": [],
   "source": [
    "# Categorizing age to stages:\n",
    "bins = [0, 29, 40, 60, float('inf')]\n",
    "labels = ['young', 'junior', 'senior', 'super senior']\n",
    "\n",
    "df['age_cat'] = pd.cut(df['age'], bins = bins, labels=labels, right=False)"
   ]
  },
  {
   "cell_type": "code",
   "execution_count": 19,
   "id": "138d6197-2e33-413d-b714-9cd7f5caa6d0",
   "metadata": {},
   "outputs": [
    {
     "name": "stdout",
     "output_type": "stream",
     "text": [
      "age_cat\n",
      "senior          550\n",
      "young           390\n",
      "junior          284\n",
      "super senior    114\n",
      "Name: count, dtype: int64\n"
     ]
    }
   ],
   "source": [
    "print(df['age_cat'].value_counts())"
   ]
  },
  {
   "cell_type": "code",
   "execution_count": 20,
   "id": "c8311a84-a8c3-4a19-9858-cbe52678bcc8",
   "metadata": {},
   "outputs": [
    {
     "name": "stdout",
     "output_type": "stream",
     "text": [
      "age_cat\n",
      "young           3.547483e+06\n",
      "junior          3.298482e+06\n",
      "senior          8.487586e+06\n",
      "super senior    2.422274e+06\n",
      "Name: charges, dtype: float64\n"
     ]
    }
   ],
   "source": [
    "reg_charges = df.groupby('age_cat', observed=True)['charges'].sum()\n",
    "\n",
    "print(reg_charges)"
   ]
  },
  {
   "cell_type": "code",
   "execution_count": 21,
   "id": "a7c6d017-f721-4af0-8615-7543b4e13c64",
   "metadata": {},
   "outputs": [
    {
     "data": {
      "text/plain": [
       "<Axes: xlabel='age_cat'>"
      ]
     },
     "execution_count": 21,
     "metadata": {},
     "output_type": "execute_result"
    },
    {
     "data": {
      "image/png": "[encoded data removed]",
      "text/plain": [
       "<Figure size 640x480 with 1 Axes>"
      ]
     },
     "metadata": {},
     "output_type": "display_data"
    }
   ],
   "source": [
    "df['age_cat'].value_counts().plot(kind='bar')"
   ]
  },
  {
   "cell_type": "code",
   "execution_count": 22,
   "id": "2e737ebe-1e21-4dfd-a408-39fe2de9f0ce",
   "metadata": {},
   "outputs": [
    {
     "name": "stdout",
     "output_type": "stream",
     "text": [
      "   age     sex     bmi  children smoker     region      charges  smoker_num  \\\n",
      "0   19  female  27.900         0    yes  southwest  16884.92400           1   \n",
      "1   18    male  33.770         1     no  southeast   1725.55230           0   \n",
      "2   28    male  33.000         3     no  southeast   4449.46200           0   \n",
      "3   33    male  22.705         0     no  northwest  21984.47061           0   \n",
      "4   32    male  28.880         0     no  northwest   3866.85520           0   \n",
      "5   31  female  25.740         0     no  southeast   3756.62160           0   \n",
      "6   46  female  33.440         1     no  southeast   8240.58960           0   \n",
      "7   37  female  27.740         3     no  northwest   7281.50560           0   \n",
      "\n",
      "  age_cat  \n",
      "0   young  \n",
      "1   young  \n",
      "2   young  \n",
      "3  junior  \n",
      "4  junior  \n",
      "5  junior  \n",
      "6  senior  \n",
      "7  junior  \n"
     ]
    }
   ],
   "source": [
    "print(df.head(8))"
   ]
  },
  {
   "cell_type": "code",
   "execution_count": 29,
   "id": "0ce07eef-28fb-45ea-9759-5cefcaf1ff0b",
   "metadata": {},
   "outputs": [
    {
     "name": "stderr",
     "output_type": "stream",
     "text": [
      "C:\\Users\\BillJ\\AppData\\Local\\Temp\\ipykernel_24604\\2884572626.py:2: FutureWarning: The default of observed=False is deprecated and will be changed to True in a future version of pandas. Pass observed=False to retain current behavior or observed=True to adopt the future default and silence this warning.\n",
      "  smoker_rate = df.groupby('age_cat')['smoker_num'].mean() * 100\n"
     ]
    },
    {
     "data": {
      "image/png": "[encoded data removed]",
      "text/plain": [
       "<Figure size 700x400 with 1 Axes>"
      ]
     },
     "metadata": {},
     "output_type": "display_data"
    }
   ],
   "source": [
    "# Step 1 group by age category\n",
    "smoker_rate = df.groupby('age_cat')['smoker_num'].mean() * 100\n",
    "\n",
    "# Step 2 plot\n",
    "plt.figure(figsize=(7,4))\n",
    "smoker_rate.plot(kind='bar', color='tomato', edgecolor='black')\n",
    "\n",
    "# Step 3: Labels and title\n",
    "plt.xlabel(\"Age Category\")\n",
    "plt.ylabel(\"Percentage of Smokers (%)\")\n",
    "plt.title(\"Smoker Age Category\")\n",
    "plt.xticks(rotation=0)\n",
    "plt.grid(axis='y', linestyle='--', alpha=0.6)\n",
    "\n",
    "# Show plot\n",
    "plt.tight_layout()\n",
    "plt.show()"
   ]
  },
  {
   "cell_type": "code",
   "execution_count": 23,
   "id": "c8f901a5-ced6-4a3f-8fa0-f84d07089577",
   "metadata": {},
   "outputs": [
    {
     "name": "stderr",
     "output_type": "stream",
     "text": [
      "D:\\Anaconda\\Lib\\site-packages\\seaborn\\categorical.py:641: FutureWarning: The default of observed=False is deprecated and will be changed to True in a future version of pandas. Pass observed=False to retain current behavior or observed=True to adopt the future default and silence this warning.\n",
      "  grouped_vals = vals.groupby(grouper)\n",
      "D:\\Anaconda\\Lib\\site-packages\\seaborn\\categorical.py:641: FutureWarning: The default of observed=False is deprecated and will be changed to True in a future version of pandas. Pass observed=False to retain current behavior or observed=True to adopt the future default and silence this warning.\n",
      "  grouped_vals = vals.groupby(grouper)\n"
     ]
    },
    {
     "data": {
      "image/png": "[encoded data removed]",
      "text/plain": [
       "<Figure size 640x480 with 1 Axes>"
      ]
     },
     "metadata": {},
     "output_type": "display_data"
    },
    {
     "data": {
      "image/png": "[encoded data removed]",
      "text/plain": [
       "<Figure size 640x480 with 1 Axes>"
      ]
     },
     "metadata": {},
     "output_type": "display_data"
    },
    {
     "data": {
      "image/png": "[encoded data removed]",
      "text/plain": [
       "<Figure size 640x480 with 1 Axes>"
      ]
     },
     "metadata": {},
     "output_type": "display_data"
    }
   ],
   "source": [
    "for i,predictor in enumerate(df[['smoker', 'region', 'age_cat']]):\n",
    "    plt.figure(i)\n",
    "    sns.countplot(data=df, x=predictor, hue='sex')"
   ]
  },
  {
   "cell_type": "code",
   "execution_count": 24,
   "id": "a2d1bcb5-3475-426e-96cc-563192edcfba",
   "metadata": {},
   "outputs": [
    {
     "name": "stderr",
     "output_type": "stream",
     "text": [
      "D:\\Anaconda\\Lib\\site-packages\\seaborn\\categorical.py:641: FutureWarning: The default of observed=False is deprecated and will be changed to True in a future version of pandas. Pass observed=False to retain current behavior or observed=True to adopt the future default and silence this warning.\n",
      "  grouped_vals = vals.groupby(grouper)\n",
      "D:\\Anaconda\\Lib\\site-packages\\seaborn\\categorical.py:641: FutureWarning: The default of observed=False is deprecated and will be changed to True in a future version of pandas. Pass observed=False to retain current behavior or observed=True to adopt the future default and silence this warning.\n",
      "  grouped_vals = vals.groupby(grouper)\n"
     ]
    },
    {
     "data": {
      "image/png": "[encoded data removed]",
      "text/plain": [
       "<Figure size 640x480 with 1 Axes>"
      ]
     },
     "metadata": {},
     "output_type": "display_data"
    },
    {
     "data": {
      "image/png": "[encoded data removed]",
      "text/plain": [
       "<Figure size 640x480 with 1 Axes>"
      ]
     },
     "metadata": {},
     "output_type": "display_data"
    },
    {
     "data": {
      "image/png": "[encoded data removed]",
      "text/plain": [
       "<Figure size 640x480 with 1 Axes>"
      ]
     },
     "metadata": {},
     "output_type": "display_data"
    }
   ],
   "source": [
    "for i,predictor in enumerate(df[['smoker', 'sex', 'age_cat']]):\n",
    "    plt.figure(i)\n",
    "    sns.countplot(data=df, x=predictor, hue='region')"
   ]
  },
  {
   "cell_type": "code",
   "execution_count": 25,
   "id": "deb516e7-9b8c-44d1-a3c6-a0a74b818f4d",
   "metadata": {},
   "outputs": [
    {
     "name": "stdout",
     "output_type": "stream",
     "text": [
      "<class 'pandas.core.frame.DataFrame'>\n",
      "RangeIndex: 1338 entries, 0 to 1337\n",
      "Data columns (total 9 columns):\n",
      " #   Column      Non-Null Count  Dtype   \n",
      "---  ------      --------------  -----   \n",
      " 0   age         1338 non-null   int64   \n",
      " 1   sex         1338 non-null   object  \n",
      " 2   bmi         1338 non-null   float64 \n",
      " 3   children    1338 non-null   int64   \n",
      " 4   smoker      1338 non-null   object  \n",
      " 5   region      1338 non-null   object  \n",
      " 6   charges     1338 non-null   float64 \n",
      " 7   smoker_num  1338 non-null   int64   \n",
      " 8   age_cat     1338 non-null   category\n",
      "dtypes: category(1), float64(2), int64(3), object(3)\n",
      "memory usage: 85.3+ KB\n"
     ]
    }
   ],
   "source": [
    "df.info()"
   ]
  },
  {
   "cell_type": "code",
   "execution_count": 26,
   "id": "d4ef0790-ee80-4521-bd4b-d74b6238f43f",
   "metadata": {},
   "outputs": [],
   "source": [
    "# To find state of parenting, we can use lambda expression along with apply()\n",
    "df['is_parent'] = df['children'].apply(lambda x: 1 if x>0 else 0)\n",
    "# Another faster way is to use Vectorized Comparison\n",
    "# df['is_parent'] = (df['children'] > 0).astype(int)"
   ]
  },
  {
   "cell_type": "code",
   "execution_count": 27,
   "id": "52c5af95-18c5-408b-baa9-250d9c80c37e",
   "metadata": {},
   "outputs": [
    {
     "data": {
      "image/png": "[encoded data removed]",
      "text/plain": [
       "<Figure size 600x400 with 1 Axes>"
      ]
     },
     "metadata": {},
     "output_type": "display_data"
    }
   ],
   "source": [
    "p_avg = df.groupby('is_parent')['charges'].mean()\n",
    "\n",
    "# Plot\n",
    "plt.figure(figsize=(6,4))\n",
    "p_avg.plot(kind='bar', color=['skyblue', 'salmon'])\n",
    "\n",
    "# Labeling\n",
    "plt.xlabel('Is Parent (0 = No, 1 = Yes)')\n",
    "plt.ylabel('Average Charges')\n",
    "plt.title('Average Insurance Charges: Parent vs Non-Parent')\n",
    "plt.xticks(rotation=0)\n",
    "plt.grid(axis='y', linestyle='--', alpha=0.7)\n",
    "\n",
    "# Show the plot\n",
    "plt.tight_layout()\n",
    "plt.show()"
   ]
  },
  {
   "cell_type": "markdown",
   "id": "66a3d8cc-60ce-4543-a7bf-5a142c5558ad",
   "metadata": {},
   "source": [
    "From above observation parents tend to pay more attention to insurance."
   ]
  },
  {
   "cell_type": "code",
   "execution_count": 38,
   "id": "e6d319a1-4a6b-471f-afe8-a7772cf41a5a",
   "metadata": {},
   "outputs": [
    {
     "data": {
      "text/html": [
       "<div>\n",
       "<style scoped>\n",
       "    .dataframe tbody tr th:only-of-type {\n",
       "        vertical-align: middle;\n",
       "    }\n",
       "\n",
       "    .dataframe tbody tr th {\n",
       "        vertical-align: top;\n",
       "    }\n",
       "\n",
       "    .dataframe thead th {\n",
       "        text-align: right;\n",
       "    }\n",
       "</style>\n",
       "<table border=\"1\" class=\"dataframe\">\n",
       "  <thead>\n",
       "    <tr style=\"text-align: right;\">\n",
       "      <th></th>\n",
       "      <th>age</th>\n",
       "      <th>sex</th>\n",
       "      <th>bmi</th>\n",
       "      <th>children</th>\n",
       "      <th>smoker</th>\n",
       "      <th>region</th>\n",
       "      <th>charges</th>\n",
       "      <th>smoker_num</th>\n",
       "      <th>age_cat</th>\n",
       "      <th>is_parent</th>\n",
       "      <th>ID</th>\n",
       "    </tr>\n",
       "  </thead>\n",
       "  <tbody>\n",
       "    <tr>\n",
       "      <th>0</th>\n",
       "      <td>19</td>\n",
       "      <td>female</td>\n",
       "      <td>27.900</td>\n",
       "      <td>0</td>\n",
       "      <td>yes</td>\n",
       "      <td>southwest</td>\n",
       "      <td>16884.92400</td>\n",
       "      <td>1</td>\n",
       "      <td>young</td>\n",
       "      <td>0</td>\n",
       "      <td>1</td>\n",
       "    </tr>\n",
       "    <tr>\n",
       "      <th>1</th>\n",
       "      <td>18</td>\n",
       "      <td>male</td>\n",
       "      <td>33.770</td>\n",
       "      <td>1</td>\n",
       "      <td>no</td>\n",
       "      <td>southeast</td>\n",
       "      <td>1725.55230</td>\n",
       "      <td>0</td>\n",
       "      <td>young</td>\n",
       "      <td>1</td>\n",
       "      <td>2</td>\n",
       "    </tr>\n",
       "    <tr>\n",
       "      <th>2</th>\n",
       "      <td>28</td>\n",
       "      <td>male</td>\n",
       "      <td>33.000</td>\n",
       "      <td>3</td>\n",
       "      <td>no</td>\n",
       "      <td>southeast</td>\n",
       "      <td>4449.46200</td>\n",
       "      <td>0</td>\n",
       "      <td>young</td>\n",
       "      <td>1</td>\n",
       "      <td>3</td>\n",
       "    </tr>\n",
       "    <tr>\n",
       "      <th>3</th>\n",
       "      <td>33</td>\n",
       "      <td>male</td>\n",
       "      <td>22.705</td>\n",
       "      <td>0</td>\n",
       "      <td>no</td>\n",
       "      <td>northwest</td>\n",
       "      <td>21984.47061</td>\n",
       "      <td>0</td>\n",
       "      <td>junior</td>\n",
       "      <td>0</td>\n",
       "      <td>4</td>\n",
       "    </tr>\n",
       "    <tr>\n",
       "      <th>4</th>\n",
       "      <td>32</td>\n",
       "      <td>male</td>\n",
       "      <td>28.880</td>\n",
       "      <td>0</td>\n",
       "      <td>no</td>\n",
       "      <td>northwest</td>\n",
       "      <td>3866.85520</td>\n",
       "      <td>0</td>\n",
       "      <td>junior</td>\n",
       "      <td>0</td>\n",
       "      <td>5</td>\n",
       "    </tr>\n",
       "  </tbody>\n",
       "</table>\n",
       "</div>"
      ],
      "text/plain": [
       "   age     sex     bmi  children smoker     region      charges  smoker_num  \\\n",
       "0   19  female  27.900         0    yes  southwest  16884.92400           1   \n",
       "1   18    male  33.770         1     no  southeast   1725.55230           0   \n",
       "2   28    male  33.000         3     no  southeast   4449.46200           0   \n",
       "3   33    male  22.705         0     no  northwest  21984.47061           0   \n",
       "4   32    male  28.880         0     no  northwest   3866.85520           0   \n",
       "\n",
       "  age_cat  is_parent  ID  \n",
       "0   young          0   1  \n",
       "1   young          1   2  \n",
       "2   young          1   3  \n",
       "3  junior          0   4  \n",
       "4  junior          0   5  "
      ]
     },
     "execution_count": 38,
     "metadata": {},
     "output_type": "execute_result"
    }
   ],
   "source": [
    "df.head(5)"
   ]
  },
  {
   "cell_type": "code",
   "execution_count": 35,
   "id": "ef39d975-4517-47b7-9d1c-c0f970717766",
   "metadata": {},
   "outputs": [],
   "source": [
    "# This will form the ID column using the record index value (0 to N)\n",
    "# df['ID'] = df.index\n",
    "# To form the ID field from 1 to N\n",
    "df['ID'] = range(1, len(df)+1)\n",
    "# Sample code to form custom ID field in our df\n",
    "# df['ID'] = ['CUST' + str(i).zfill(3) for i in range(1, len(df) + 1)] # This gives you: 'CUST001', 'CUST002', ...'CUST123'"
   ]
  },
  {
   "cell_type": "code",
   "execution_count": 39,
   "id": "1d85cfed-e1de-441b-a1b9-7b6e793a64a7",
   "metadata": {},
   "outputs": [
    {
     "data": {
      "text/html": [
       "<div>\n",
       "<style scoped>\n",
       "    .dataframe tbody tr th:only-of-type {\n",
       "        vertical-align: middle;\n",
       "    }\n",
       "\n",
       "    .dataframe tbody tr th {\n",
       "        vertical-align: top;\n",
       "    }\n",
       "\n",
       "    .dataframe thead th {\n",
       "        text-align: right;\n",
       "    }\n",
       "</style>\n",
       "<table border=\"1\" class=\"dataframe\">\n",
       "  <thead>\n",
       "    <tr style=\"text-align: right;\">\n",
       "      <th></th>\n",
       "      <th>ID</th>\n",
       "      <th>age</th>\n",
       "      <th>sex</th>\n",
       "      <th>bmi</th>\n",
       "      <th>children</th>\n",
       "      <th>smoker</th>\n",
       "      <th>region</th>\n",
       "      <th>charges</th>\n",
       "      <th>smoker_num</th>\n",
       "      <th>age_cat</th>\n",
       "      <th>is_parent</th>\n",
       "    </tr>\n",
       "  </thead>\n",
       "  <tbody>\n",
       "    <tr>\n",
       "      <th>0</th>\n",
       "      <td>1</td>\n",
       "      <td>19</td>\n",
       "      <td>female</td>\n",
       "      <td>27.900</td>\n",
       "      <td>0</td>\n",
       "      <td>yes</td>\n",
       "      <td>southwest</td>\n",
       "      <td>16884.92400</td>\n",
       "      <td>1</td>\n",
       "      <td>young</td>\n",
       "      <td>0</td>\n",
       "    </tr>\n",
       "    <tr>\n",
       "      <th>1</th>\n",
       "      <td>2</td>\n",
       "      <td>18</td>\n",
       "      <td>male</td>\n",
       "      <td>33.770</td>\n",
       "      <td>1</td>\n",
       "      <td>no</td>\n",
       "      <td>southeast</td>\n",
       "      <td>1725.55230</td>\n",
       "      <td>0</td>\n",
       "      <td>young</td>\n",
       "      <td>1</td>\n",
       "    </tr>\n",
       "    <tr>\n",
       "      <th>2</th>\n",
       "      <td>3</td>\n",
       "      <td>28</td>\n",
       "      <td>male</td>\n",
       "      <td>33.000</td>\n",
       "      <td>3</td>\n",
       "      <td>no</td>\n",
       "      <td>southeast</td>\n",
       "      <td>4449.46200</td>\n",
       "      <td>0</td>\n",
       "      <td>young</td>\n",
       "      <td>1</td>\n",
       "    </tr>\n",
       "    <tr>\n",
       "      <th>3</th>\n",
       "      <td>4</td>\n",
       "      <td>33</td>\n",
       "      <td>male</td>\n",
       "      <td>22.705</td>\n",
       "      <td>0</td>\n",
       "      <td>no</td>\n",
       "      <td>northwest</td>\n",
       "      <td>21984.47061</td>\n",
       "      <td>0</td>\n",
       "      <td>junior</td>\n",
       "      <td>0</td>\n",
       "    </tr>\n",
       "    <tr>\n",
       "      <th>4</th>\n",
       "      <td>5</td>\n",
       "      <td>32</td>\n",
       "      <td>male</td>\n",
       "      <td>28.880</td>\n",
       "      <td>0</td>\n",
       "      <td>no</td>\n",
       "      <td>northwest</td>\n",
       "      <td>3866.85520</td>\n",
       "      <td>0</td>\n",
       "      <td>junior</td>\n",
       "      <td>0</td>\n",
       "    </tr>\n",
       "  </tbody>\n",
       "</table>\n",
       "</div>"
      ],
      "text/plain": [
       "   ID  age     sex     bmi  children smoker     region      charges  \\\n",
       "0   1   19  female  27.900         0    yes  southwest  16884.92400   \n",
       "1   2   18    male  33.770         1     no  southeast   1725.55230   \n",
       "2   3   28    male  33.000         3     no  southeast   4449.46200   \n",
       "3   4   33    male  22.705         0     no  northwest  21984.47061   \n",
       "4   5   32    male  28.880         0     no  northwest   3866.85520   \n",
       "\n",
       "   smoker_num age_cat  is_parent  \n",
       "0           1   young          0  \n",
       "1           0   young          1  \n",
       "2           0   young          1  \n",
       "3           0  junior          0  \n",
       "4           0  junior          0  "
      ]
     },
     "execution_count": 39,
     "metadata": {},
     "output_type": "execute_result"
    }
   ],
   "source": [
    "# To move the field ID to first position we can reorder the df before saving:\n",
    "# Get current columns\n",
    "cols = df.columns.tolist()\n",
    "\n",
    "# Reorder: place 'ID' at the front using list comprehension\n",
    "cols = ['ID'] + [col for col in cols if col != 'ID']\n",
    "\n",
    "# Reassign with new column order\n",
    "df = df[cols]\n",
    "df.head(5)"
   ]
  },
  {
   "cell_type": "code",
   "execution_count": 40,
   "id": "3cf5fbeb-96e5-4735-ab5f-22ef19f596f6",
   "metadata": {},
   "outputs": [],
   "source": [
    "df.to_csv('D:/NCI_ML_SelfLearn/Projects/Insurance_Level1/insure_lvl1_transformed.csv', index = False)"
   ]
  },
  {
   "cell_type": "code",
   "execution_count": null,
   "id": "b057c463-944c-4c8a-8624-ab88db7521ac",
   "metadata": {},
   "outputs": [],
   "source": []
  }
 ],
 "metadata": {
  "kernelspec": {
   "display_name": "Python 3 (ipykernel)",
   "language": "python",
   "name": "python3"
  },
  "language_info": {
   "codemirror_mode": {
    "name": "ipython",
    "version": 3
   },
   "file_extension": ".py",
   "mimetype": "text/x-python",
   "name": "python",
   "nbconvert_exporter": "python",
   "pygments_lexer": "ipython3",
   "version": "3.11.5"
  }
 },
 "nbformat": 4,
 "nbformat_minor": 5
}
